{
 "cells": [
  {
   "cell_type": "markdown",
   "metadata": {},
   "source": [
    "*asdfsd*\n",
    "**asdfsdf**\n",
    "1. adf\n",
    "2. asdfasdf\n",
    "- adfgsd\n",
    "- sdfg\n",
    "    - djfkdsj <br/>\n",
    "\\*asterisks\\*\n",
    " <br/>*also asterisks*\n",
    "_______\n",
    "huh so the indentation stays?"
   ]
  },
  {
   "cell_type": "markdown",
   "metadata": {},
   "source": [
    "header1\n",
    "=======\n",
    "wow that's big"
   ]
  },
  {
   "cell_type": "markdown",
   "metadata": {},
   "source": [
    "$e^{i\\pi} + 1 = 0$\n"
   ]
  },
  {
   "cell_type": "markdown",
   "metadata": {},
   "source": [
    "> ## H2 in a blockquote\n"
   ]
  },
  {
   "cell_type": "markdown",
   "metadata": {},
   "source": [
    "<p>This time.</p>"
   ]
  },
 
  {
   "cell_type": "markdown",
   "metadata": {},
   "source": [
    "- 날 속여줘 this time\n",
    "<br/>**wow i love that song**"
   ]
  },
  {
   "cell_type": "markdown",
   "metadata": {},
   "source": [
    "_isn't this like the theme editor tho_\n"
   ]
  },
  {
   "cell_type": "markdown",
   "metadata": {},
   "source": [
    "* i think it is lol"
   ]
  },
  {
   "cell_type": "markdown",
   "metadata": {},
   "source": [
    "what else does \"practice editing in markdown\" mean?\n",
    "* i've been messing with the theme editor for years maybe just this is ok <br/>\n",
    "__there's nothing else to it i don't think, is there__"
   ]
  },
  {
   "cell_type": "markdown",
   "metadata": {},
   "source": [
    "###### this isn't that big"
   ]
  },
  {
   "cell_type": "markdown",
   "metadata": {},
   "source": [
    "what does the paragraph symbol mean tho"
   ]
  },
  {
   "cell_type": "markdown",
   "metadata": {},
   "source": [
    "***discord uses markdown too***"
   ]
  },
  {
   "cell_type": "code",
   "execution_count": 3,
   "metadata": {},
   "outputs": [],
   "source": [
    "a = 42"
   ]
  },
  {
   "cell_type": "code",
   "execution_count": 4,
   "metadata": {},
   "outputs": [
    {
     "name": "stdout",
     "output_type": "stream",
     "text": [
      "42\n"
     ]
    }
   ],
   "source": [
    "print(a)"
   ]
  },
  {
   "cell_type": "code",
   "execution_count": 5,
   "metadata": {},
   "outputs": [
    {
     "name": "stdout",
     "output_type": "stream",
     "text": [
      "0\n",
      "1\n",
      "2\n",
      "3\n",
      "4\n",
      "5\n",
      "6\n",
      "7\n"
     ]
    }
   ],
   "source": [
    "import time, sys\n",
    "for i in range(8):\n",
    "    print(i)\n",
    "    time.sleep(0.5)\n"
   ]
  },
  {
   "cell_type": "markdown",
   "metadata": {},
   "source": [
    "wowie"
   ]
  },
  {
   "cell_type": "code",
   "execution_count": 6,
   "metadata": {},
   "outputs": [
    {
     "name": "stdout",
     "output_type": "stream",
     "text": [
      "0\n",
      "1\n",
      "2\n",
      "3\n",
      "4\n",
      "5\n",
      "6\n",
      "7\n"
     ]
    }
   ],
   "source": [
    "for i in range(8):\n",
    "    print(i)"
   ]
  },
  {
   "cell_type": "markdown",
   "metadata": {},
   "source": [
    "*discord*\n"
   ]
  },
  {
   "cell_type": "markdown",
   "metadata": {},
   "source": [
    "aaaaaaa"
   ]
  },
  {
   "cell_type": "code",
   "execution_count": null,
   "metadata": {},
   "outputs": [],
   "source": []
  }
 ],
 "metadata": {
  "kernelspec": {
   "display_name": "Python 3",
   "language": "python",
   "name": "python3"
  },
  "language_info": {
   "codemirror_mode": {
    "name": "ipython",
    "version": 3
   },
   "file_extension": ".py",
   "mimetype": "text/x-python",
   "name": "python",
   "nbconvert_exporter": "python",
   "pygments_lexer": "ipython3",
   "version": "3.7.4"
  }
 },
 "nbformat": 4,
 "nbformat_minor": 2
}
