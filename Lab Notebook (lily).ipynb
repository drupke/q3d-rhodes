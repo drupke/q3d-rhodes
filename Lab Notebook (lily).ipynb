{
 "cells": [
  {
   "cell_type": "markdown",
   "metadata": {},
   "source": [
    "*hello world*"
   ]
  },
  {
   "cell_type": "markdown",
   "metadata": {},
   "source": [
    "**hello world**"
   ]
  },
  {
   "cell_type": "markdown",
   "metadata": {},
   "source": [
    "***hello world***\n"
   ]
  },
  {
   "cell_type": "markdown",
   "metadata": {},
   "source": [
    "~~~hello world~~~"
   ]
  },
  {
   "cell_type": "markdown",
   "metadata": {},
   "source": [
    "test^t"
   ]
  },
  {
   "cell_type": "markdown",
   "metadata": {},
   "source": [
    "_hello_\n"
   ]
  },
  {
   "cell_type": "markdown",
   "metadata": {},
   "source": [
    "h_m"
   ]
  },
  {
   "cell_type": "markdown",
   "metadata": {},
   "source": [
    "{h}"
   ]
  },
  {
   "cell_type": "code",
   "execution_count": 4,
   "metadata": {},
   "outputs": [
    {
     "ename": "SyntaxError",
     "evalue": "invalid syntax (<ipython-input-4-e2b1decd8f11>, line 1)",
     "output_type": "error",
     "traceback": [
      "\u001b[1;36m  File \u001b[1;32m\"<ipython-input-4-e2b1decd8f11>\"\u001b[1;36m, line \u001b[1;32m1\u001b[0m\n\u001b[1;33m    $x_{2}$\u001b[0m\n\u001b[1;37m    ^\u001b[0m\n\u001b[1;31mSyntaxError\u001b[0m\u001b[1;31m:\u001b[0m invalid syntax\n"
     ]
    }
   ],
   "source": [
    "$x_{2}$"
   ]
  },
  {
   "cell_type": "markdown",
   "metadata": {},
   "source": [
    "$x_{2}$\n"
   ]
  },
  {
   "cell_type": "markdown",
   "metadata": {},
   "source": [
    "$x^{2}$"
   ]
  },
  {
   "cell_type": "markdown",
   "metadata": {},
   "source": [
    "**Goals for the Summer**\n",
    "\n",
    "(1) Learn how to work in a scientific collaboration <br> (2) Learn more python (and IDL) <br> (3) Determine if I like astronomy research <br> (4) Learn more astronomy terminology <br> (5) Read more papers and try to get a better understanding of what it means and how they gathered their data"
   ]
  },
  {
   "cell_type": "markdown",
   "metadata": {},
   "source": [
    "**Goals for Week 1- May 18-23**\n",
    "\n",
    "(1) Finish I-9 Form Nightmare <br> (2) Plot something in IDL <br> (3) Attend all of the Q3D meetings and begin to get more familiar with the project and terminology"
   ]
  },
  {
   "cell_type": "markdown",
   "metadata": {},
   "source": [
    "***Week One Notes*** <br>\n",
    "*Monday* <br>\n",
    "Q3D Meeting; Notes on our proposal, AGN Feedback, and Quasar driven winds; Worked on the I-9 Form situation <br>\n",
    "*Tuesday* <br>\n",
    "Q3D Meeting; Notes on quasar feedback, IFS observations, infrared spectroscopy (need a better understanding); Rupke Research Meeting- goals for week/summer, questions on 2017 paper <br>\n",
    "*Wednesday* <br>\n",
    "Q3D Meeting-plotting in IDL and problems; Worked on plotting in python; Called Hadley to try to understand morning meeting <br>\n",
    "*Thursday* <br>\n",
    "Q3D Meeting- going over topics researched and IDL; RR meeting; Fixed some of the syntax errors with demonstration plot in IDL; Assigned plt.lin <br>\n",
    "*Friday* <br>\n",
    "Last Q3D Hackathon Meeting; Notes on Github submission; New Meeting time set; Doctors Appt 1:45; Attempted to begin understand plt.lin in IDL; Notes on functions of IDL such as 'set_plot' and '!P.thick' and other things that I did not understand <br>\n"
   ]
  },
  {
   "cell_type": "markdown",
   "metadata": {},
   "source": [
    "**Week One Goals Review** \n",
    "\n",
    "(1) Got I-9 forms completed and submitted. Worked with Rhodes Express to get hours counted for everyday except Monday. (901)-843-3198 has been a super helpful number for issues with workday <br>\n",
    "(2) I made a simple plot in IDL work, fixed the demo to where it should work but did not run it successfully- path issue I think? <br>\n",
    "(3) Attended all hackathon meetings, Topics that were covered in Nadia Zakamska's talk and Rupke's 2017 paper were more familiar and easier to follow along with\n"
   ]
  },
  {
   "cell_type": "markdown",
   "metadata": {},
   "source": [
    "**Goals for Week 2- May 25-30**\n",
    "\n",
    "(1) Make progress on IDL to Python conversion of plt.lin (finish if possible?) <br>\n",
    "(2) Understand what plt.lin does in IDL/Research all of the unfamiliar functions plt.lin uses in IDL <br>\n",
    "(3) Research infrared spectroscopy and try to gain a better understanding"
   ]
  },
  {
   "cell_type": "code",
   "execution_count": null,
   "metadata": {},
   "outputs": [],
   "source": []
  }
 ],
 "metadata": {
  "kernelspec": {
   "display_name": "Python 3",
   "language": "python",
   "name": "python3"
  },
  "language_info": {
   "codemirror_mode": {
    "name": "ipython",
    "version": 3
   },
   "file_extension": ".py",
   "mimetype": "text/x-python",
   "name": "python",
   "nbconvert_exporter": "python",
   "pygments_lexer": "ipython3",
   "version": "3.7.6"
  }
 },
 "nbformat": 4,
 "nbformat_minor": 4
}
