{
 "cells": [
  {
   "cell_type": "markdown",
   "metadata": {},
   "source": [
    "# Weekly Schedule"
   ]
  },
  {
   "cell_type": "markdown",
   "metadata": {},
   "source": [
    "- ### Remote Seminar\n",
    "    - [Munich Joint Astronomy Colloquium](https://www.eso.org/public/djangoplicity/events/archive/site_embed/eso-garching/?audience=s&year=2020&series=munich-joint-astronomy-colloquium)\n",
    "    - [ESO Duologues](https://www.eso.org/sci/meetings/2020/Cosmic-Duologues/duologues.html)\n",
    "    - Week of 18 May: Hackathon\n",
    "    - Week of 1 June: 28/11/19: [\"The role of AGN-feedback in the baryon cycle of z~2 galaxies,\" Vincenzo Mainieri (ESO)](https://www.eso.org/public/djangoplicity/events/archive/site_embed/eso-garching/?series=munich-joint-astronomy-colloquium&audience=s&year=2019)\n",
    "    - Week of 8 June: 06/02/20, [\"Star-Forming GMCs Regulated by Feedback,\" Eve Ostriker (Princeton University)](https://www.eso.org/public/djangoplicity/events/archive/site_embed/eso-garching/?series=munich-joint-astronomy-colloquium&audience=s&year=2020)\n",
    "    - Week of 15 June: 27/06/19, [\"Galaxy Cluster Evolution over the Past 10 Billion Years,\" Michael McDonald (MIT Kavli Institute)](https://www.eso.org/public/djangoplicity/events/archive/site_embed/eso-garching/?series=munich-joint-astronomy-colloquium&audience=s&year=2019)\n",
    "    - Week of 22 June: 04/04/19, [\"Neutral and molecular gas outflows as tracers of the impact of radio jets,\"\n",
    "Raffaella Morganti (ASTRON, the Netherlands Institute for Radio Astronomy & Kapteyn Astronomical Institute, University of Groningen)](https://www.eso.org/public/djangoplicity/events/archive/site_embed/eso-garching/?series=munich-joint-astronomy-colloquium&audience=s&year=2019)\n",
    "    - Week of 29 June:\n",
    "    - Week of 6 July:"
   ]
  }
 ],
 "metadata": {
  "kernelspec": {
   "display_name": "Python 3",
   "language": "python",
   "name": "python3"
  },
  "language_info": {
   "codemirror_mode": {
    "name": "ipython",
    "version": 3
   },
   "file_extension": ".py",
   "mimetype": "text/x-python",
   "name": "python",
   "nbconvert_exporter": "python",
   "pygments_lexer": "ipython3",
   "version": "3.6.10"
  }
 },
 "nbformat": 4,
 "nbformat_minor": 4
}
