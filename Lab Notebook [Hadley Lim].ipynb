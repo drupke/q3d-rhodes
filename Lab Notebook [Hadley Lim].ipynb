{
 "cells": [
  {
   "cell_type": "markdown",
   "metadata": {},
   "source": [
    "**Week of 6/2**  \n",
    "Goals:  \n",
    ">1. Watch seminar talk \n",
    ">2. Help Lily get pltlin running so I can test cmplin. \n",
    ">3. Get some part of IFSFA up and running  \n",
    "  \n",
    "Log:  \n",
    ">*Monday*:  \n",
    ">&nbsp;&nbsp;&nbsp;&nbsp;&nbsp;&nbsp;Kept on with q3da. Didn't actually do much, just translated it line for line– all pretty straightforward for now. Looked at the thing with linoth because it was bothering me. Annoying how there's no direct translation of 'where' in IDL to python as far as I know.  \n",
    ">*Tuesday*:  \n",
    ">&nbsp;&nbsp;&nbsp;&nbsp;&nbsp;&nbsp;Continued with q3da, changed how I found gaussian in cmplin (astropy modeling isn't working out, maybe because I'm not understanding how it works completely? Just ended up doing it by hand and putting it at the end as a helper function); will also look at it again later. Helped Lily a little bit.\n",
    "____"
   ]
  },
  {
   "cell_type": "markdown",
   "metadata": {},
   "source": [
    "**Week of 6/15**  \n",
    "Goals:  \n",
    ">1. Watch seminar talk \n",
    ">2. Get Lily's data for her, wait for her to get pltlin running so I can test cmplin. \n",
    ">3. Make Q3DA-dev branch and start working on translating IFSFA  \n",
    "  \n",
    "Log:  \n",
    ">*Monday*:  \n",
    ">&nbsp;&nbsp;&nbsp;&nbsp;&nbsp;&nbsp;Helped Lily a little; she got ifsf_pg1411.pro to run (yay!). Made q3da-dev branch but didn't put anything in it. Fixed an mistake I made with default values in pltcont. Started translating IFSFA. Should ask what type initdat is in Python.  \n",
    ">*Tuesday*:  \n",
    ">&nbsp;&nbsp;&nbsp;&nbsp;&nbsp;&nbsp;Worked more on translating IFSFA but I'm barely at line 350 ( ˘︹˘ ). Feel sick; I didn't do as much as I wanted.  \n",
    ">*Wednesday*:  \n",
    ">&nbsp;&nbsp;&nbsp;&nbsp;&nbsp;&nbsp;Kept translating. Also, I'm sick.   \n",
    ">*Thursday*:  \n",
    ">&nbsp;&nbsp;&nbsp;&nbsp;&nbsp;&nbsp;Watched seminar, kept translating, have only written about 200 lines in Python.  \n",
    ">*Friday*:  \n",
    ">&nbsp;&nbsp;&nbsp;&nbsp;&nbsp;&nbsp;Transposed arrays in pltcont, fixed ones in ifsfa, kept translating ifsfa. Maybe should find a way to test it or something.\n",
    "____"
   ]
  },
  {
   "cell_type": "markdown",
   "metadata": {},
   "source": [
    "**Week of 6/8**\n",
    "  \n",
    "Goals:  \n",
    ">1. Finish finetuning ifsf_pltcont, post to Slack when happy with output\n",
    ">2. Begin trying to rewrite ifsf_cmplin  \n",
    ">3. Watch seminar talk  \n",
    "  \n",
    "Log:  \n",
    ">*Monday*:  \n",
    ">&nbsp;&nbsp;&nbsp;&nbsp;&nbsp;&nbsp;Fixed the error in location of masked regions (data in ct_indx in dictionary I made was wrong, has length of 5800 for the particular data I'm using; should be less than length of Wave). Fixed the blue line in compspec (QSO). Both issues were just errors with the data, not the code itself.  \n",
    ">*Tuesday*:  \n",
    ">&nbsp;&nbsp;&nbsp;&nbsp;&nbsp;&nbsp;Sometimes increasing linewidth makes the line wider as well. Thought I had a range problem but actually just needed to do solid_capstyle=\"butt\" so linewidth doesn't project over edge. Translated cmplin.  \n",
    ">*Wednesday*:  \n",
    ">&nbsp;&nbsp;&nbsp;&nbsp;&nbsp;&nbsp;Watched seminar, finished translating cmplin.  \n",
    ">*Thursday*:  \n",
    ">&nbsp;&nbsp;&nbsp;&nbsp;&nbsp;&nbsp;Had to help Lily some with her own work but didn't do much. Finished watching seminar.  \n",
    ">*Friday*:  \n",
    ">&nbsp;&nbsp;&nbsp;&nbsp;&nbsp;&nbsp;Working on consec function referenced in ifsf_pltcont.pro; making it a separate function created in the same file.  \n",
    ">*Saturday*:  \n",
    ">&nbsp;&nbsp;&nbsp;&nbsp;&nbsp;&nbsp;Finished consec.  \n",
    ">*Sunday*:  \n",
    ">&nbsp;&nbsp;&nbsp;&nbsp;&nbsp;&nbsp;Tried to help Lily get pg_1411.pro to run; she didn't have MPFIT downloaded hence fitspec wouldn't run. Might look for a zip file for IDLUTILS for her since she doesn't have a command line. Error now is that IDL doesn't have permission to delete files and I don't know how to fix that."
   ]
  },
  {
   "cell_type": "markdown",
   "metadata": {},
   "source": [
    "_______  \n",
    "**Week of 6/1**  \n",
    "  \n",
    "Goals:  \n",
    ">1. Test ifsf_pltcont.pro some more. \n",
    ">2. Watch seminar, come up with three questions for Friday.  \n",
    ">3. Get working version of code done by end of the week  \n",
    "  \n",
    "Log:\n",
    ">*Monday*:  \n",
    ">&nbsp;&nbsp;&nbsp;&nbsp;&nbsp;&nbsp;Took out All of the placeholder variables I put in last week to run/test code and see how it came out > made up a very basic dictionary  \n",
    ">*Tuesday*:  \n",
    ">&nbsp;&nbsp;&nbsp;&nbsp;&nbsp;&nbsp;Working on input/output functionality (created test file to work on it in a simpler form), realized I messed up using arrays (\\[\\*,i\\] in IDL vs. \\[:,i\\] in Python, I think) so fixed that. Won't output anything when I defined it as a function.  \n",
    ">*Wednesday*:  \n",
    ">&nbsp;&nbsp;&nbsp;&nbsp;&nbsp;&nbsp;Fixed outputting issue; fixed subplotting/multiplotting formatting. Added to dictionary so data is plotted in all three subplots, messed with the difference between numpy arrays and regular arrays re. the arrays from yesterday. Running function off an input file (a dictionary saved locally onto my computer) without any trouble now, saved as .npy.  \n",
    ">*Thursday*:  \n",
    ">&nbsp;&nbsp;&nbsp;&nbsp;&nbsp;&nbsp;Things that gave me trouble: indexing an array with another array, what size arrays in dictionary should be (ie. cont_fit and wave are of the same length, which I forget all the time). Still using some filler code when finding yran[1] until I can test with better numbers, since it's dependent on the length of i1, i2, i3, (I think). Plots output and save to a file when subplotting, scaling looks better when plotting three different figures (but each figure has to be saved to a separate file?). Watched seminar talk.  \n",
    ">*Friday*:  \n",
    ">&nbsp;&nbsp;&nbsp;&nbsp;&nbsp;&nbsp;Working with ticks is seriously so annoying found plt.xticks, np.arrange(first, last, steps) (see below). Mostly worked with the formatting (legend, ticks, scales, line thicknesses, colors, etc.) so it matches the output from pg1411. I think it looks pretty cool yay :)  \n",
    ">*Saturday*:  \n",
    ">&nbsp;&nbsp;&nbsp;&nbsp;&nbsp;&nbsp;Got IFSFA/ifsf_pg1411 running again; just had to do a git pull (6/6/2020). Looked at struct_host which is the structure that goes in as instr in ifsf_pltcont, set a break point at line 792 in ifsfa. Cont_dat, wave, emline_dat, cont_fit all DOUBLE[6105], compspec DOUBLE[6105, 2] (found from breakpoint at line 109 in ifsf_pltcont)."
   ]
  },
  {
   "cell_type": "markdown",
   "metadata": {},
   "source": [
    "_______  \n",
    "**Week of 5/25**  \n",
    "  \n",
    "Goals:\n",
    ">1. Look through fitspec (tags specifically)\n",
    ">2. Test ifsf_pltcont.pro\n",
    ">2. Fix ifsf_pltcont.pro (table > dictionary)  \n",
    "\n",
    "Log:  \n",
    ">*Monday*:  \n",
    ">&nbsp;&nbsp;&nbsp;&nbsp;&nbsp;&nbsp;Didn't work  \n",
    ">*Tuesday*:  \n",
    ">&nbsp;&nbsp;&nbsp;&nbsp;&nbsp;&nbsp;Finished writing translation straight without any testing at all  \n",
    ">*Wednesday*:  \n",
    ">&nbsp;&nbsp;&nbsp;&nbsp;&nbsp;&nbsp;Looked at fitspec as a whole, changed ifsf_pltcont so it uses dictionaries instead of tables, got ifsf_pg1411 to finally work, tried to make up some data and such to toss into ifsf_pltcont  \n",
    ">*Thursday*:  \n",
    ">&nbsp;&nbsp;&nbsp;&nbsp;&nbsp;&nbsp;Picked up with coming up with data again, either that was done wrong or the plotting procedure I wrote was wrong; both are probably true lol. Don't have much time today.  \n",
    ">*Friday*:  \n",
    ">&nbsp;&nbsp;&nbsp;&nbsp;&nbsp;&nbsp; Looked more into how the input file should look; checked out ifsfa. Completely redoing what I had plotting-wise in Python :( Had to watch my brother while working; didn't get as much done as I wanted.  \n",
    ">*Saturday*:  \n",
    ">&nbsp;&nbsp;&nbsp;&nbsp;&nbsp;&nbsp;Looked at how to export a dictionary, fixed plots so they don't freak out, etc. etc.\n"
   ]
  },
  {
   "cell_type": "markdown",
   "metadata": {},
   "source": [
    "_______\n",
    "5/18 goals:\n",
    ">1. Sort out I-9 form\n",
    ">2. Figure out what to do exactly\n",
    ">3. Plot something in IDL and Python"
   ]
  },
  {
   "cell_type": "markdown",
   "metadata": {},
   "source": [
    "_______\n",
    "Summer goals:\n",
    ">1. Fully understand the software\n",
    ">2. Become familiarized with technical vocabulary\n",
    ">3. Learn how to work collaboratively \n"
   ]
  },
  {
   "cell_type": "markdown",
   "metadata": {},
   "source": [
    "## stuff from pltcont:"
   ]
  },
  {
   "cell_type": "code",
   "execution_count": 134,
   "metadata": {},
   "outputs": [
    {
     "name": "stdout",
     "output_type": "stream",
     "text": [
      "1\n",
      "2\n"
     ]
    }
   ],
   "source": [
    "#where, AND, this is so long??\n",
    "wave = [1, 2, 3, 4]\n",
    "xran1 = [0, 3]\n",
    "i1 = [None]\n",
    "i1.pop(0)\n",
    "for i in wave:\n",
    "    if i > xran1[0] and i < xran1[1]:\n",
    "        i1.append(i)\n",
    "for x in i1:\n",
    "    print(x)"
   ]
  },
  {
   "cell_type": "markdown",
   "metadata": {},
   "source": [
    "￼ ￼ ￼"
   ]
  },
  {
   "cell_type": "code",
   "execution_count": null,
   "metadata": {},
   "outputs": [],
   "source": [
    "#have to use these at each subplot\n",
    "plt.minorticks_on()\n",
    "plt.xticks(np.arange(0, 5, 1.0))"
   ]
  },
  {
   "cell_type": "code",
   "execution_count": null,
   "metadata": {},
   "outputs": [],
   "source": [
    "#lines used to save data from IDL code to a file\n",
    "close, /all\n",
    "openw, 1, 'wave.txt'\n",
    "PRINTF, 1, wave"
   ]
  },
  {
   "cell_type": "code",
   "execution_count": null,
   "metadata": {},
   "outputs": [],
   "source": [
    "#lines used to make a python array from file for dictionary (cred. Joy Lim)\n",
    "file = open(\"compspec.txt\", \"r\")\n",
    "arr = np.zeros((6068, 2), dtype=float)\n",
    "count = 0\n",
    "for i in file.readlines():\n",
    "  for j in i.split():\n",
    "      if count < 6068:\n",
    "        row = count % 6068\n",
    "        column = count // 6068\n",
    "        arr[row][column] = j\n",
    "        count+=1"
   ]
  },
  {
   "cell_type": "code",
   "execution_count": 87,
   "metadata": {},
   "outputs": [
    {
     "name": "stdout",
     "output_type": "stream",
     "text": [
      "[[-120.   90.]\n",
      " [ -80.   50.]\n",
      " [-130.   50.]\n",
      " [ -80.  120.]\n",
      " [ -95.   70.]\n",
      " [ -95.   50.]]\n"
     ]
    }
   ],
   "source": [
    "#Did this for Lily\n",
    "file = open(\"off.txt\", \"r\")\n",
    "arr = np.zeros((6, 2), dtype=float)\n",
    "count = 0\n",
    "row = 0\n",
    "column = 0\n",
    "for i in file.readlines():\n",
    "  for j in i.split():\n",
    "        arr[row][column] = j\n",
    "        column+=1\n",
    "        if column == 2:\n",
    "            row+=1\n",
    "            column = 0\n",
    "print(arr)"
   ]
  },
  {
   "cell_type": "code",
   "execution_count": 32,
   "metadata": {},
   "outputs": [
    {
     "name": "stdout",
     "output_type": "stream",
     "text": [
      "[0 1 2]\n"
     ]
    }
   ],
   "source": [
    "import numpy as np\n",
    "print (np.arange(0, 3))"
   ]
  },
  {
   "cell_type": "code",
   "execution_count": 15,
   "metadata": {},
   "outputs": [
    {
     "data": {
      "text/plain": [
       "array([ 5, 44, 88,  9])"
      ]
     },
     "execution_count": 15,
     "metadata": {},
     "output_type": "execute_result"
    }
   ],
   "source": [
    "#indexing with an array:\n",
    "h = [11, 22, 33, 44, 5, 66, 7, 88, 9]\n",
    "index = [4, 3, 7, 8]\n",
    "h = np.array(h)\n",
    "h[np.array(index)]"
   ]
  },
  {
   "cell_type": "markdown",
   "metadata": {},
   "source": [
    "## stuff from cmplin:"
   ]
  },
  {
   "cell_type": "code",
   "execution_count": 130,
   "metadata": {},
   "outputs": [
    {
     "name": "stdout",
     "output_type": "stream",
     "text": [
      "Model: Gaussian1D\n",
      "Inputs: ('x',)\n",
      "Outputs: ('y',)\n",
      "Model set size: 1\n",
      "Parameters:\n",
      "         amplitude [1000]     mean stddev\n",
      "    ------------------------- ---- ------\n",
      "    -5.0 .. 4.989999999999787  0.0    1.0\n"
     ]
    }
   ],
   "source": [
    "#alternative to IDLAstro's gaussian.pro in cmplin?\n",
    "from astropy.modeling import models\n",
    "x = np.arange(-5, 5, .01)\n",
    "flux = models.Gaussian1D(x, 0, 1) #amp, mean, stdev\n",
    "print(flux)\n",
    "#plt.plot(x, flux)"
   ]
  },
  {
   "cell_type": "markdown",
   "metadata": {},
   "source": [
    "gaussian function used:  \n",
    ">a * math.exp(-(x - b)\\*\\*2/(2 * c\\*\\*2))  \n",
    "  \n",
    "derivative:  \n",
    ">(-a * (x - b)) / c\\*\\*2) / (math.exp((c\\*\\*2 \\* (x - b)\\*\\*2)/(2 \\* c\\*\\*2))"
   ]
  },
  {
   "cell_type": "markdown",
   "metadata": {},
   "source": [
    "## Stuff from consec:"
   ]
  },
  {
   "cell_type": "code",
   "execution_count": 2,
   "metadata": {},
   "outputs": [
    {
     "name": "stdout",
     "output_type": "stream",
     "text": [
      "[4, 1, 2, 3]\n"
     ]
    }
   ],
   "source": [
    "#shifting an array to the right\n",
    "a = [1, 2, 3, 4]\n",
    "a.insert(0, a.pop())\n",
    "print(a)"
   ]
  },
  {
   "cell_type": "code",
   "execution_count": 25,
   "metadata": {},
   "outputs": [
    {
     "name": "stdout",
     "output_type": "stream",
     "text": [
      "[4, 1, 2, 3]\n"
     ]
    }
   ],
   "source": [
    "a = [1, 2, 3, 4]\n",
    "print(a[-1:] + a[:-1])"
   ]
  },
  {
   "cell_type": "markdown",
   "metadata": {},
   "source": [
    "#### ACTUALLY just use np.roll()"
   ]
  },
  {
   "cell_type": "code",
   "execution_count": null,
   "metadata": {},
   "outputs": [],
   "source": [
    "#adding \"padding\" to a when a is a numpy array\n",
    "temp = np.concatenate(([a[0]], a))\n",
    "a = np.concatenate((temp, [a[-1]]))"
   ]
  },
  {
   "cell_type": "code",
   "execution_count": 37,
   "metadata": {},
   "outputs": [
    {
     "name": "stdout",
     "output_type": "stream",
     "text": [
      "True\n",
      "5802\n",
      "5802\n"
     ]
    }
   ],
   "source": [
    "#checking to see if I made cond1 and cond2 right except they're super duper long\n",
    "file = open(\"cond2.txt\", \"r\")\n",
    "file1 = open(\"cond2python.txt\", \"r\")\n",
    "ls = list()\n",
    "ls1 = list()\n",
    "count = 0\n",
    "for i in file.readlines():\n",
    "    for j in i.split():\n",
    "        ls.append(int(j))\n",
    "for i in file1.readlines():\n",
    "    for j in i.split():\n",
    "        ls1.append(j)\n",
    "equal = True\n",
    "for i in range (0, len(ls)):\n",
    "    if (ls[i] == 0 and ls1[i] == False) or (ls[i] == 1 and ls1[i] == True):\n",
    "        equal = False\n",
    "        print(\"i: \" + str(i))\n",
    "        print(\"IDL[i]: \" + str(ls[i]) + \" python[i]: \" + str(ls1[i]))\n",
    "print(equal)\n",
    "print(str(len(ls)))\n",
    "print(str(len(ls1)))\n",
    "#I made them right"
   ]
  },
  {
   "cell_type": "markdown",
   "metadata": {},
   "source": [
    "\"<\" means the smaller of the two numbers in IDL, not t/f"
   ]
  },
  {
   "cell_type": "markdown",
   "metadata": {},
   "source": [
    "## Stuff from Q3DA:"
   ]
  },
  {
   "cell_type": "code",
   "execution_count": 89,
   "metadata": {},
   "outputs": [
    {
     "data": {
      "text/plain": [
       "array([ 4,  9, 16, 25])"
      ]
     },
     "execution_count": 89,
     "metadata": {},
     "output_type": "execute_result"
    }
   ],
   "source": [
    "import numpy as np\n",
    "b = [4.2, 9.0, 16.5, 25.7]\n",
    "np.array(b).astype(\"int\")"
   ]
  },
  {
   "cell_type": "markdown",
   "metadata": {},
   "source": [
    "(don't forget to save files as .py etc or it'll save as a txt file I guess??)"
   ]
  },
  {
   "cell_type": "code",
   "execution_count": 31,
   "metadata": {},
   "outputs": [
    {
     "name": "stdout",
     "output_type": "stream",
     "text": [
      "004\n",
      "0006\n"
     ]
    }
   ],
   "source": [
    "n = '4'\n",
    "print(n.zfill(3))\n",
    "\n",
    "i = 5\n",
    "labin = str(i + 1).zfill(4)\n",
    "print(labin)"
   ]
  },
  {
   "cell_type": "code",
   "execution_count": 22,
   "metadata": {},
   "outputs": [
    {
     "name": "stdout",
     "output_type": "stream",
     "text": [
      "number of columns: 3\n",
      "number of rows: 2\n",
      "number of dimensions: 2\n",
      "number of elements: 6\n"
     ]
    }
   ],
   "source": [
    "# :(\n",
    "import numpy as np\n",
    "t = np.array([[1, 2, 3], [4, 5, 6]])\n",
    "l = len(t[0])\n",
    "print(\"number of columns: \" + str(l))\n",
    "print(\"number of rows: \" + str(len(t)))\n",
    "print(\"number of dimensions: \" + str(t.ndim))\n",
    "print(\"number of elements: \" + str(np.size(t)))"
   ]
  },
  {
   "cell_type": "code",
   "execution_count": 25,
   "metadata": {},
   "outputs": [
    {
     "name": "stdout",
     "output_type": "stream",
     "text": [
      "<class 'numpy.ndarray'>\n"
     ]
    }
   ],
   "source": [
    "import numpy as np\n",
    "c = np.transpose([[1, 2, 3],[4, 5, 6]])\n",
    "print(str(type(c)))"
   ]
  },
  {
   "cell_type": "code",
   "execution_count": 135,
   "metadata": {
    "scrolled": true
   },
   "outputs": [
    {
     "name": "stdout",
     "output_type": "stream",
     "text": [
      "[[' ' ' ' '[OIII]4959' '[OI]6364' '[NII]6548' '[SII]6716']\n",
      " [' ' ' ' ' ' ' ' '[NII]6583' ' ']]\n"
     ]
    }
   ],
   "source": [
    "#in pg1411.py\n",
    "import numpy as np\n",
    "\n",
    "linoth = np.full((2,6), \" \", dtype = object) #filler value (' ') was only one element long \n",
    "            #so was only taking first character ([) to fit. should probably use fill?\n",
    "#print(\"orig: \" + str(linoth))\n",
    "linoth[0, 2] = \"[OIII]4959\"\n",
    "linoth[0, 3] = '[OI]6364'\n",
    "linoth[:, 4] = ['[NII]6548','[NII]6583']\n",
    "linoth[0, 5] = '[SII]6716'\n",
    "print(str(linoth))"
   ]
  },
  {
   "cell_type": "code",
   "execution_count": 137,
   "metadata": {},
   "outputs": [
    {
     "name": "stdout",
     "output_type": "stream",
     "text": [
      "File doesn't exist\n"
     ]
    }
   ],
   "source": [
    "#checking if a file exists by seeing if u can open it (throwing and catching error)\n",
    "try:\n",
    "   fo = open(\"d:\\\\nonexisting.txt\",\"r\")\n",
    "   #process after opening file\n",
    "   pass\n",
    "   #\n",
    "   fo.close()\n",
    "except IOError:\n",
    "   print (\"File doesn't exist\")"
   ]
  },
  {
   "cell_type": "code",
   "execution_count": null,
   "metadata": {},
   "outputs": [],
   "source": []
  }
 ],
 "metadata": {
  "kernelspec": {
   "display_name": "Python 3",
   "language": "python",
   "name": "python3"
  },
  "language_info": {
   "codemirror_mode": {
    "name": "ipython",
    "version": 3
   },
   "file_extension": ".py",
   "mimetype": "text/x-python",
   "name": "python",
   "nbconvert_exporter": "python",
   "pygments_lexer": "ipython3",
   "version": "3.7.4"
  }
 },
 "nbformat": 4,
 "nbformat_minor": 2
}
