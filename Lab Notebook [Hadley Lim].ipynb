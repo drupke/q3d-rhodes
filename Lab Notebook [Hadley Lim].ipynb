{
 "cells": [
  {
   "cell_type": "markdown",
   "metadata": {},
   "source": [
    "5/25 goals:\n",
    "1. Look through fitspec (tags specifically)\n",
    "2. Test ifsf_pltcont.pro\n",
    "2. Fix ifsf_pltcont.pro (table > dictionary)\n",
    "_______\n",
    "5/18 goals:\n",
    "1. Sort out I-9 form\n",
    "2. Figure out what to do exactly\n",
    "3. Plot something in IDL and Python\n",
    "_______\n",
    "Summer goals:\n",
    "1. Fully understand the software\n",
    "2. Become familiarized with technical vocabulary\n",
    "3. Learn how to work collaboratively \n"
   ]
  },
  {
   "cell_type": "code",
   "execution_count": null,
   "metadata": {},
   "outputs": [],
   "source": []
  }
 ],
 "metadata": {
  "kernelspec": {
   "display_name": "Python 3",
   "language": "python",
   "name": "python3"
  },
  "language_info": {
   "codemirror_mode": {
    "name": "ipython",
    "version": 3
   },
   "file_extension": ".py",
   "mimetype": "text/x-python",
   "name": "python",
   "nbconvert_exporter": "python",
   "pygments_lexer": "ipython3",
   "version": "3.7.4"
  }
 },
 "nbformat": 4,
 "nbformat_minor": 2
}
