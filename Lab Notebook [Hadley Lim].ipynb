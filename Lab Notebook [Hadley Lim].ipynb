{
 "cells": [
  {
   "cell_type": "markdown",
   "metadata": {},
   "source": [
    "**Week of 6/1**  \n",
    "  \n",
    "Goals:  \n",
    ">1. Test ifsf_pltcont.pro some more. \n",
    ">2. Watch seminar, come up with three questions for Friday.  \n",
    ">3. Get working version of code done by end of the week  \n",
    "  \n",
    "Log:\n",
    ">*Monday*:  \n",
    ">&nbsp;&nbsp;&nbsp;&nbsp;&nbsp;&nbsp;Took out All of the placeholder variables I put in last week to run/test code and see how it came out > made up a very basic dictionary  \n",
    ">*Tuesday*:  \n",
    ">&nbsp;&nbsp;&nbsp;&nbsp;&nbsp;&nbsp;Working on input/output functionality (created test file to work on it in a simpler form), realized I messed up using arrays (\\[\\*,i\\] in IDL vs. \\[:,i\\] in Python, I think) so fixed that. Won't output anything when I defined it as a function.  \n",
    ">*Wednesday*:  \n",
    ">&nbsp;&nbsp;&nbsp;&nbsp;&nbsp;&nbsp;Fixed outputting issue; fixed subplotting/multiplotting formatting. Added to dictionary so data is plotted in all three subplots, messed with the difference between numpy arrays and regular arrays re. the arrays from yesterday. Running function off an input file (a dictionary saved locally onto my computer) without any trouble now, saved as .npy. It's hard to tell how close my plots look to good  \n",
    ">*Thursday*:  \n",
    ">&nbsp;&nbsp;&nbsp;&nbsp;&nbsp;&nbsp;Things that gave me trouble: indexing an array with another array, what size arrays in dictionary should be (ie. cont_fit and wave are of the same length, which I forget all the time). Still using some filler code when finding yran[1] until I can test with better numbers, since it's dependent on the length of i1, i2, i3, (I think). Plots output and save to a file when subplotting, scaling looks better when plotting three different figures (but each figure has to be saved to a separate file?). Watched seminar talk."
   ]
  },
  {
   "cell_type": "markdown",
   "metadata": {},
   "source": []
  },
  {
   "cell_type": "markdown",
   "metadata": {},
   "source": [
    "_______  \n",
    "**Week of 5/25**  \n",
    "  \n",
    "Goals:\n",
    ">1. Look through fitspec (tags specifically)\n",
    ">2. Test ifsf_pltcont.pro\n",
    ">2. Fix ifsf_pltcont.pro (table > dictionary)  \n",
    "\n",
    "Log:  \n",
    ">*Monday*:  \n",
    ">&nbsp;&nbsp;&nbsp;&nbsp;&nbsp;&nbsp;Didn't work  \n",
    ">*Tuesday*:  \n",
    ">&nbsp;&nbsp;&nbsp;&nbsp;&nbsp;&nbsp;Finished writing translation straight without any testing at all  \n",
    ">*Wednesday*:  \n",
    ">&nbsp;&nbsp;&nbsp;&nbsp;&nbsp;&nbsp;Looked at fitspec as a whole, changed ifsf_pltcont so it uses dictionaries instead of tables, got ifsf_pg1411 to finally work, tried to make up some data and such to toss into ifsf_pltcont  \n",
    ">*Thursday*:  \n",
    ">&nbsp;&nbsp;&nbsp;&nbsp;&nbsp;&nbsp;Picked up with coming up with data again, either that was done wrong or the plotting procedure I wrote was wrong; both are probably true lol. Don't have much time today.  \n",
    ">*Friday*:  \n",
    ">&nbsp;&nbsp;&nbsp;&nbsp;&nbsp;&nbsp; Looked more into how the input file should look; checked out ifsfa. Completely redoing what I had plotting-wise in Python :( Had to watch my brother while working; didn't get as much done as I wanted.  \n",
    ">*Saturday*:  \n",
    ">&nbsp;&nbsp;&nbsp;&nbsp;&nbsp;&nbsp;Looked at how to export a dictionary, fixed plots so they don't freak out, etc. etc.\n"
   ]
  },
  {
   "cell_type": "markdown",
   "metadata": {},
   "source": [
    "_______\n",
    "5/18 goals:\n",
    ">1. Sort out I-9 form\n",
    ">2. Figure out what to do exactly\n",
    ">3. Plot something in IDL and Python"
   ]
  },
  {
   "cell_type": "markdown",
   "metadata": {},
   "source": [
    "_______\n",
    "Summer goals:\n",
    ">1. Fully understand the software\n",
    ">2. Become familiarized with technical vocabulary\n",
    ">3. Learn how to work collaboratively \n"
   ]
  },
  {
   "cell_type": "code",
   "execution_count": 12,
   "metadata": {},
   "outputs": [],
   "source": [
    "#where, AND, this is so long??\n",
    "wave = [1, 2, 3, 4]\n",
    "xran1 = [0, 3]\n",
    "i1 = [None]\n",
    "i1.pop(0)\n",
    "for i in wave:\n",
    "    if i > xran1[0] and i < xran1[1]:\n",
    "        i1.append(i)"
   ]
  },
  {
   "cell_type": "code",
   "execution_count": 13,
   "metadata": {},
   "outputs": [
    {
     "name": "stdout",
     "output_type": "stream",
     "text": [
      "1\n",
      "2\n"
     ]
    }
   ],
   "source": [
    "for x in i1:\n",
    "    print(x)"
   ]
  },
  {
   "cell_type": "code",
   "execution_count": null,
   "metadata": {},
   "outputs": [],
   "source": [
    "max(masklam[:, 1])"
   ]
  },
  {
   "cell_type": "markdown",
   "metadata": {},
   "source": [
    "￼ ￼ ￼"
   ]
  },
  {
   "cell_type": "code",
   "execution_count": null,
   "metadata": {},
   "outputs": [],
   "source": []
  }
 ],
 "metadata": {
  "kernelspec": {
   "display_name": "Python 3",
   "language": "python",
   "name": "python3"
  },
  "language_info": {
   "codemirror_mode": {
    "name": "ipython",
    "version": 3
   },
   "file_extension": ".py",
   "mimetype": "text/x-python",
   "name": "python",
   "nbconvert_exporter": "python",
   "pygments_lexer": "ipython3",
   "version": "3.7.4"
  }
 },
 "nbformat": 4,
 "nbformat_minor": 2
}
