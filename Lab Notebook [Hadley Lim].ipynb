{
 "cells": [
  {
   "cell_type": "markdown",
   "metadata": {},
   "source": [
    "**Week of 5/25**  \n",
    "  \n",
    "Goals:\n",
    ">1. Look through fitspec (tags specifically)\n",
    ">2. Test ifsf_pltcont.pro\n",
    ">2. Fix ifsf_pltcont.pro (table > dictionary)  \n",
    "\n",
    "Log:  \n",
    ">*Monday*:  \n",
    ">&nbsp;&nbsp;&nbsp;&nbsp;&nbsp;&nbsp;Didn't work  \n",
    ">*Tuesday*:  \n",
    ">&nbsp;&nbsp;&nbsp;&nbsp;&nbsp;&nbsp;Finished writing translation straight without any testing at all  \n",
    ">*Wednesday*:  \n",
    ">&nbsp;&nbsp;&nbsp;&nbsp;&nbsp;&nbsp;Looked at fitspec as a whole, changed ifsf_pltcont so it uses dictionaries >instead of tables, got ifsf_pg1411 to finally work, tried to make up some data and such to toss into ifsf_pltcont  \n",
    ">*Thursday*:  \n",
    ">&nbsp;&nbsp;&nbsp;&nbsp;&nbsp;&nbsp;Picked up with coming up with data again, either that was done wrong or the >plotting procedure I wrote was wrong; both are probably true lol. Don't have much time today.\n",
    "_______\n",
    "5/18 goals:\n",
    "1. Sort out I-9 form\n",
    "2. Figure out what to do exactly\n",
    "3. Plot something in IDL and Python\n",
    "_______\n",
    "Summer goals:\n",
    "1. Fully understand the software\n",
    "2. Become familiarized with technical vocabulary\n",
    "3. Learn how to work collaboratively \n"
   ]
  },
  {
   "cell_type": "markdown",
   "metadata": {},
   "source": []
  },
  {
   "cell_type": "code",
   "execution_count": null,
   "metadata": {},
   "outputs": [],
   "source": []
  }
 ],
 "metadata": {
  "kernelspec": {
   "display_name": "Python 3",
   "language": "python",
   "name": "python3"
  },
  "language_info": {
   "codemirror_mode": {
    "name": "ipython",
    "version": 3
   },
   "file_extension": ".py",
   "mimetype": "text/x-python",
   "name": "python",
   "nbconvert_exporter": "python",
   "pygments_lexer": "ipython3",
   "version": "3.7.4"
  }
 },
 "nbformat": 4,
 "nbformat_minor": 2
}
