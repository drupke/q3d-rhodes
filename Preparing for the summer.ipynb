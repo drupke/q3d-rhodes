{
 "cells": [
  {
   "cell_type": "markdown",
   "metadata": {},
   "source": [
    "L = Lily, H = Hadley, R = Prof. Rupke<br>\n",
    "When you finish something, ~~cross it out~~, and commit/push changes to GitHub"
   ]
  },
  {
   "cell_type": "markdown",
   "metadata": {},
   "source": [
    "## Helpful links\n",
    "- GitHub help: <https://help.github.com/en>\n",
    "- Markdown syntax: <https://www.markdownguide.org/basic-syntax/>\n",
    "- nbviewer: <https://nbviewer.jupyter.org/>\n",
    "- [*Useful Information* Word document in studentresearch Box folder](https://rhodes.box.com/s/w8in1h1on4fx46ejfpjjul116j95nf8a)"
   ]
  },
  {
   "cell_type": "markdown",
   "metadata": {},
   "source": [
    "## Hardware\n",
    "- Purchase 1 Tb external drive\n",
    "    - ~~L~~\n",
    "    - ~~H~~"
   ]
  },
  {
   "cell_type": "markdown",
   "metadata": {},
   "source": [
    "## Software\n",
    "- Install Anaconda and astropy\n",
    "    - ~~L~~\n",
    "- Research IDL licensing\n",
    "    - ~~R~~\n",
    "- Create GitHub account and activate free student stuff at <https://education.github.com/>\n",
    "    - ~~L~~\n",
    "    - ~~H~~\n",
    "- Add L and H as collaborators on q3d-rhodes repository\n",
    "    - ~~R~~\n",
    "- Clone q3d-rhodes repository from Prof. Rupke's account\n",
    "    - load *this* Jupyter notebook in the Jupyter Notebook application on Anaconda\n",
    "    - create your own Jupyter lab notebook and practice editing in markdown, adding Python code\n",
    "    - add your lab notebook to q3d-rhodes and commit and push to the repository\n",
    "    - L\n",
    "    - H\n",
    "- Clone [IFSFIT](https://github.com/drupke/ifsfit) repository from Prof. Rupke's account (drupke)\n",
    "    - L\n",
    "    - H\n",
    "- Install IDL and activate license\n",
    "    - L\n",
    "    - H\n",
    "- Begin learning basic IDL (see [*Useful Information*](https://rhodes.box.com/s/w8in1h1on4fx46ejfpjjul116j95nf8a))\n",
    "- Install routines on which IFSFIT depends to run (*dependencies*). These are listed in the GitHub repository as \"libraries\" under *Requirements*.\n",
    "- Install [Slack](https://slack.com/), accept Q3D invitation."
   ]
  },
  {
   "cell_type": "markdown",
   "metadata": {},
   "source": [
    "## Science\n",
    "- Research Infrared Spectrograph (IRS) on Spitzer Space Telescope; add useful links here\n",
    "    - L\n",
    "    - H\n",
    "- Videos to watch\n",
    "    - 11/04/19 Munich Joint Astrophysics Colloquium: [\"Quasar-driven winds in galaxy formation\", Nadia Zakamska (Johns Hopkins University)](https://www.eso.org/public/djangoplicity/events/archive/site_embed/eso-garching/?series=munich-joint-astronomy-colloquium&audience=s&year=2019)\n",
    "- Papers to peruse\n",
    "    - See \"Publisher\" and \"arXiv\" links at right side of each link. arXiv is open-access, publisher link is sometimes. Green dot indicates open access.\n",
    "    - Technical\n",
    "        - [Rupke et al. 2017](https://ui.adsabs.harvard.edu/abs/2017ApJ...850...40R/abstract): this one describes what IFSFIT does in relation to point-spread function (PSF) subtraction\n",
    "        - [Rupke et al. 2015](https://ui.adsabs.harvard.edu/abs/2015ApJ...801..126R/abstract): earlier paper on IFSFIT\n",
    "        - [Veilleux et al. 2009](https://ui.adsabs.harvard.edu/abs/2009ApJS..182..628V/abstract): QUESTFIT for fitting mid-infrared spectra\n",
    "    - Science in the optical and near-infrared:\n",
    "        - [Cano-Diaz et al. 2012](https://ui.adsabs.harvard.edu/abs/2012A%26A...537L...8C/abstract)\n",
    "        - [Riffel et al. 2008](https://ui.adsabs.harvard.edu/abs/2008MNRAS.385.1129R/abstract)\n",
    "    - Science in the mid-infrared\n",
    "        - [Roussel et al. 2007](https://ui.adsabs.harvard.edu/abs/2008MNRAS.385.1129R/abstract)\n",
    "        - [Smith et al. 2007](https://ui.adsabs.harvard.edu/abs/2007ApJ...656..770S/abstract)"
   ]
  },
  {
   "cell_type": "code",
   "execution_count": null,
   "metadata": {},
   "outputs": [],
   "source": []
  }
 ],
 "metadata": {
  "kernelspec": {
   "display_name": "Python 3",
   "language": "python",
   "name": "python3"
  },
  "language_info": {
   "codemirror_mode": {
    "name": "ipython",
    "version": 3
   },
   "file_extension": ".py",
   "mimetype": "text/x-python",
   "name": "python",
   "nbconvert_exporter": "python",
   "pygments_lexer": "ipython3",
   "version": "3.6.10"
  }
 },
 "nbformat": 4,
 "nbformat_minor": 4
}
