{
 "cells": [
  {
   "cell_type": "markdown",
   "metadata": {},
   "source": [
    "L = Lily, H = Hadley, R = Prof. Rupke\\\n",
    "When you finish something, ~~cross it out~~"
   ]
  },
  {
   "cell_type": "markdown",
   "metadata": {},
   "source": [
    "## Helpful links\n",
    "- Markdown syntax: <https://www.markdownguide.org/basic-syntax/>"
   ]
  },
  {
   "cell_type": "markdown",
   "metadata": {},
   "source": [
    "## Hardware\n",
    "- Purchase 1 Tb external drive\n",
    "    - L\n",
    "    - H"
   ]
  },
  {
   "cell_type": "markdown",
   "metadata": {},
   "source": [
    "## Software\n",
    "- Install Anaconda and astropy\n",
    "    - L\n",
    "- Research IDL licensing\n",
    "    - R\n",
    "- Create GitHub account and activate free student stuff at <https://education.github.com/>\n",
    "    - L\n",
    "    - H\n",
    "- Clone q3d-rhodes\n",
    "- Clone IFSFIT repository from Prof. Rupke's account (drupke)\n",
    "    - L\n",
    "    - H\n"
   ]
  },
  {
   "cell_type": "code",
   "execution_count": null,
   "metadata": {},
   "outputs": [],
   "source": []
  }
 ],
 "metadata": {
  "kernelspec": {
   "display_name": "Python 3",
   "language": "python",
   "name": "python3"
  },
  "language_info": {
   "codemirror_mode": {
    "name": "ipython",
    "version": 3
   },
   "file_extension": ".py",
   "mimetype": "text/x-python",
   "name": "python",
   "nbconvert_exporter": "python",
   "pygments_lexer": "ipython3",
   "version": "3.7.6"
  }
 },
 "nbformat": 4,
 "nbformat_minor": 4
}
