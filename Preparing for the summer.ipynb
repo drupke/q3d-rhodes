{
 "cells": [
  {
   "cell_type": "markdown",
   "metadata": {},
   "source": [
    "L = Lily, H = Hadley, R = Prof. Rupke<br>\n",
    "When you finish something, ~~cross it out~~, and commit/push changes to GitHub"
   ]
  },
  {
   "cell_type": "markdown",
   "metadata": {},
   "source": [
    "## Helpful links\n",
    "- GitHub help: <https://help.github.com/en>\n",
    "- Markdown syntax: <https://www.markdownguide.org/basic-syntax/>\n",
    "- nbviewer: <https://nbviewer.jupyter.org/>"
   ]
  },
  {
   "cell_type": "markdown",
   "metadata": {},
   "source": [
    "## Hardware\n",
    "- Purchase 1 Tb external drive\n",
    "    - L\n",
    "    - H"
   ]
  },
  {
   "cell_type": "markdown",
   "metadata": {},
   "source": [
    "## Software\n",
    "- Install Anaconda and astropy\n",
    "    - L\n",
    "- Research IDL licensing\n",
    "    - R\n",
    "- Create GitHub account and activate free student stuff at <https://education.github.com/>\n",
    "    - L\n",
    "    - H\n",
    "- Add L and H as collaborators on q3d-rhodes repository\n",
    "    - R\n",
    "- Clone q3d-rhodes repository from Prof. Rupke's account\n",
    "    - load *this* Jupyter notebook in the Jupyter Notebook application on Anaconda\n",
    "    - create your own Jupyter lab notebook and practice editing in markdown, adding Python code\n",
    "    - add your lab notebook to q3d-rhodes and commit and push to the repository\n",
    "    - L\n",
    "    - H\n",
    "- Clone IFSFIT repository from Prof. Rupke's account (drupke)\n",
    "    - L\n",
    "    - H"
   ]
  },
  {
   "cell_type": "markdown",
   "metadata": {},
   "source": [
    "## Science\n",
    "- Research Infrared Spectrograph (IRS) on Spitzer Space Telescope; add useful links here\n",
    "    - L\n",
    "    - H\n",
    "- Papers to peruse [TBA]"
   ]
  }
 ],
 "metadata": {
  "kernelspec": {
   "display_name": "Python 3",
   "language": "python",
   "name": "python3"
  },
  "language_info": {
   "codemirror_mode": {
    "name": "ipython",
    "version": 3
   },
   "file_extension": ".py",
   "mimetype": "text/x-python",
   "name": "python",
   "nbconvert_exporter": "python",
   "pygments_lexer": "ipython3",
   "version": "3.7.6"
  }
 },
 "nbformat": 4,
 "nbformat_minor": 4
}
